{
 "cells": [
  {
   "cell_type": "code",
   "execution_count": 14,
   "metadata": {},
   "outputs": [
    {
     "name": "stderr",
     "output_type": "stream",
     "text": [
      "── \u001b[1mAttaching packages\u001b[22m ─────────────────────────────────────── tidyverse 1.3.0 ──\n",
      "\n",
      "\u001b[32m✔\u001b[39m \u001b[34mggplot2\u001b[39m 3.2.1     \u001b[32m✔\u001b[39m \u001b[34mpurrr  \u001b[39m 0.3.3\n",
      "\u001b[32m✔\u001b[39m \u001b[34mtibble \u001b[39m 2.1.3     \u001b[32m✔\u001b[39m \u001b[34mdplyr  \u001b[39m 0.8.5\n",
      "\u001b[32m✔\u001b[39m \u001b[34mtidyr  \u001b[39m 1.0.0     \u001b[32m✔\u001b[39m \u001b[34mstringr\u001b[39m 1.4.0\n",
      "\u001b[32m✔\u001b[39m \u001b[34mreadr  \u001b[39m 1.3.1     \u001b[32m✔\u001b[39m \u001b[34mforcats\u001b[39m 0.4.0\n",
      "\n",
      "── \u001b[1mConflicts\u001b[22m ────────────────────────────────────────── tidyverse_conflicts() ──\n",
      "\u001b[31m✖\u001b[39m \u001b[34mdplyr\u001b[39m::\u001b[32mfilter()\u001b[39m         masks \u001b[34mstats\u001b[39m::filter()\n",
      "\u001b[31m✖\u001b[39m \u001b[34mreadr\u001b[39m::\u001b[32mguess_encoding()\u001b[39m masks \u001b[34mrvest\u001b[39m::guess_encoding()\n",
      "\u001b[31m✖\u001b[39m \u001b[34mdplyr\u001b[39m::\u001b[32mlag()\u001b[39m            masks \u001b[34mstats\u001b[39m::lag()\n",
      "\u001b[31m✖\u001b[39m \u001b[34mpurrr\u001b[39m::\u001b[32mpluck()\u001b[39m          masks \u001b[34mrvest\u001b[39m::pluck()\n",
      "\n"
     ]
    }
   ],
   "source": [
    "library(\"tidyverse\")"
   ]
  },
  {
   "cell_type": "code",
   "execution_count": 1,
   "metadata": {},
   "outputs": [
    {
     "data": {
      "text/html": [
       "'/Users/mahdiebnali/mycodes'"
      ],
      "text/latex": [
       "'/Users/mahdiebnali/mycodes'"
      ],
      "text/markdown": [
       "'/Users/mahdiebnali/mycodes'"
      ],
      "text/plain": [
       "[1] \"/Users/mahdiebnali/mycodes\""
      ]
     },
     "metadata": {},
     "output_type": "display_data"
    }
   ],
   "source": [
    "getwd()"
   ]
  },
  {
   "cell_type": "code",
   "execution_count": 2,
   "metadata": {},
   "outputs": [
    {
     "name": "stderr",
     "output_type": "stream",
     "text": [
      "Loading required package: xml2\n",
      "\n"
     ]
    }
   ],
   "source": [
    "library(rvest)  "
   ]
  },
  {
   "cell_type": "code",
   "execution_count": 3,
   "metadata": {},
   "outputs": [
    {
     "data": {
      "text/plain": [
       "{html_document}\n",
       "<html>\n",
       "[1] <body><p>Diet,Bodyweight\\nchow,21.51\\nchow,28.14\\nchow,24.04\\nchow,23.45\\ ..."
      ]
     },
     "metadata": {},
     "output_type": "display_data"
    }
   ],
   "source": [
    "read_html(\"https://raw.githubusercontent.com/genomicsclass/dagdata/master/inst/extdata/femaleMiceWeights.csv\")"
   ]
  },
  {
   "cell_type": "code",
   "execution_count": 17,
   "metadata": {},
   "outputs": [],
   "source": [
    "data_mah<- read.csv(\"data_bi_female.csv\", sep=\",\")"
   ]
  },
  {
   "cell_type": "code",
   "execution_count": 23,
   "metadata": {},
   "outputs": [
    {
     "name": "stderr",
     "output_type": "stream",
     "text": [
      "Warning message:\n",
      "“Expected 2 pieces. Additional pieces discarded in 24 rows [1, 2, 3, 4, 5, 6, 7, 8, 9, 10, 11, 12, 13, 14, 15, 16, 17, 18, 19, 20, ...].”\n"
     ]
    }
   ],
   "source": [
    "new_data_mah <- data_mah%>% separate( \"Diet.Bodyweight\" ,into= c(\"name\", \"weight\"))"
   ]
  },
  {
   "cell_type": "code",
   "execution_count": 24,
   "metadata": {},
   "outputs": [
    {
     "data": {
      "text/html": [
       "<table>\n",
       "<caption>A data.frame: 6 × 2</caption>\n",
       "<thead>\n",
       "\t<tr><th></th><th scope=col>name</th><th scope=col>weight</th></tr>\n",
       "\t<tr><th></th><th scope=col>&lt;chr&gt;</th><th scope=col>&lt;chr&gt;</th></tr>\n",
       "</thead>\n",
       "<tbody>\n",
       "\t<tr><th scope=row>1</th><td>chow</td><td>21</td></tr>\n",
       "\t<tr><th scope=row>2</th><td>chow</td><td>28</td></tr>\n",
       "\t<tr><th scope=row>3</th><td>chow</td><td>24</td></tr>\n",
       "\t<tr><th scope=row>4</th><td>chow</td><td>23</td></tr>\n",
       "\t<tr><th scope=row>5</th><td>chow</td><td>23</td></tr>\n",
       "\t<tr><th scope=row>6</th><td>chow</td><td>19</td></tr>\n",
       "</tbody>\n",
       "</table>\n"
      ],
      "text/latex": [
       "A data.frame: 6 × 2\n",
       "\\begin{tabular}{r|ll}\n",
       "  & name & weight\\\\\n",
       "  & <chr> & <chr>\\\\\n",
       "\\hline\n",
       "\t1 & chow & 21\\\\\n",
       "\t2 & chow & 28\\\\\n",
       "\t3 & chow & 24\\\\\n",
       "\t4 & chow & 23\\\\\n",
       "\t5 & chow & 23\\\\\n",
       "\t6 & chow & 19\\\\\n",
       "\\end{tabular}\n"
      ],
      "text/markdown": [
       "\n",
       "A data.frame: 6 × 2\n",
       "\n",
       "| <!--/--> | name &lt;chr&gt; | weight &lt;chr&gt; |\n",
       "|---|---|---|\n",
       "| 1 | chow | 21 |\n",
       "| 2 | chow | 28 |\n",
       "| 3 | chow | 24 |\n",
       "| 4 | chow | 23 |\n",
       "| 5 | chow | 23 |\n",
       "| 6 | chow | 19 |\n",
       "\n"
      ],
      "text/plain": [
       "  name weight\n",
       "1 chow 21    \n",
       "2 chow 28    \n",
       "3 chow 24    \n",
       "4 chow 23    \n",
       "5 chow 23    \n",
       "6 chow 19    "
      ]
     },
     "metadata": {},
     "output_type": "display_data"
    }
   ],
   "source": [
    "head(new_data_mah)\n"
   ]
  },
  {
   "cell_type": "code",
   "execution_count": 25,
   "metadata": {},
   "outputs": [
    {
     "data": {
      "text/html": [
       "<style>\n",
       ".list-inline {list-style: none; margin:0; padding: 0}\n",
       ".list-inline>li {display: inline-block}\n",
       ".list-inline>li:not(:last-child)::after {content: \"\\00b7\"; padding: 0 .5ex}\n",
       "</style>\n",
       "<ol class=list-inline><li>'21'</li><li>'28'</li><li>'24'</li><li>'23'</li><li>'23'</li><li>'19'</li><li>'28'</li><li>'20'</li><li>'22'</li><li>'20'</li><li>'26'</li><li>'26'</li><li>'25'</li><li>'26'</li><li>'22'</li><li>'25'</li><li>'24'</li><li>'28'</li><li>'29'</li><li>'30'</li><li>'34'</li><li>'21'</li><li>'31'</li><li>'20'</li></ol>\n"
      ],
      "text/latex": [
       "\\begin{enumerate*}\n",
       "\\item '21'\n",
       "\\item '28'\n",
       "\\item '24'\n",
       "\\item '23'\n",
       "\\item '23'\n",
       "\\item '19'\n",
       "\\item '28'\n",
       "\\item '20'\n",
       "\\item '22'\n",
       "\\item '20'\n",
       "\\item '26'\n",
       "\\item '26'\n",
       "\\item '25'\n",
       "\\item '26'\n",
       "\\item '22'\n",
       "\\item '25'\n",
       "\\item '24'\n",
       "\\item '28'\n",
       "\\item '29'\n",
       "\\item '30'\n",
       "\\item '34'\n",
       "\\item '21'\n",
       "\\item '31'\n",
       "\\item '20'\n",
       "\\end{enumerate*}\n"
      ],
      "text/markdown": [
       "1. '21'\n",
       "2. '28'\n",
       "3. '24'\n",
       "4. '23'\n",
       "5. '23'\n",
       "6. '19'\n",
       "7. '28'\n",
       "8. '20'\n",
       "9. '22'\n",
       "10. '20'\n",
       "11. '26'\n",
       "12. '26'\n",
       "13. '25'\n",
       "14. '26'\n",
       "15. '22'\n",
       "16. '25'\n",
       "17. '24'\n",
       "18. '28'\n",
       "19. '29'\n",
       "20. '30'\n",
       "21. '34'\n",
       "22. '21'\n",
       "23. '31'\n",
       "24. '20'\n",
       "\n",
       "\n"
      ],
      "text/plain": [
       " [1] \"21\" \"28\" \"24\" \"23\" \"23\" \"19\" \"28\" \"20\" \"22\" \"20\" \"26\" \"26\" \"25\" \"26\" \"22\"\n",
       "[16] \"25\" \"24\" \"28\" \"29\" \"30\" \"34\" \"21\" \"31\" \"20\""
      ]
     },
     "metadata": {},
     "output_type": "display_data"
    }
   ],
   "source": [
    "new_data_mah$weight"
   ]
  },
  {
   "cell_type": "code",
   "execution_count": 28,
   "metadata": {},
   "outputs": [
    {
     "name": "stderr",
     "output_type": "stream",
     "text": [
      "Warning message in mean.default(new_data_mah$weight):\n",
      "“argument is not numeric or logical: returning NA”\n"
     ]
    },
    {
     "data": {
      "text/html": [
       "&lt;NA&gt;"
      ],
      "text/latex": [
       "<NA>"
      ],
      "text/markdown": [
       "&lt;NA&gt;"
      ],
      "text/plain": [
       "[1] NA"
      ]
     },
     "metadata": {},
     "output_type": "display_data"
    }
   ],
   "source": [
    "mean(new_data_mah$weight)"
   ]
  },
  {
   "cell_type": "code",
   "execution_count": 29,
   "metadata": {},
   "outputs": [
    {
     "data": {
      "text/html": [
       "'character'"
      ],
      "text/latex": [
       "'character'"
      ],
      "text/markdown": [
       "'character'"
      ],
      "text/plain": [
       "[1] \"character\""
      ]
     },
     "metadata": {},
     "output_type": "display_data"
    }
   ],
   "source": [
    "typeof(new_data_mah$weight)"
   ]
  },
  {
   "cell_type": "code",
   "execution_count": 31,
   "metadata": {},
   "outputs": [],
   "source": [
    "new_data_mah$weight <- as.numeric(new_data_mah$weight)"
   ]
  },
  {
   "cell_type": "code",
   "execution_count": 32,
   "metadata": {},
   "outputs": [
    {
     "data": {
      "text/html": [
       "'double'"
      ],
      "text/latex": [
       "'double'"
      ],
      "text/markdown": [
       "'double'"
      ],
      "text/plain": [
       "[1] \"double\""
      ]
     },
     "metadata": {},
     "output_type": "display_data"
    }
   ],
   "source": [
    "typeof(new_data_mah$weight)"
   ]
  },
  {
   "cell_type": "code",
   "execution_count": 33,
   "metadata": {},
   "outputs": [
    {
     "data": {
      "text/html": [
       "24.7916666666667"
      ],
      "text/latex": [
       "24.7916666666667"
      ],
      "text/markdown": [
       "24.7916666666667"
      ],
      "text/plain": [
       "[1] 24.79167"
      ]
     },
     "metadata": {},
     "output_type": "display_data"
    }
   ],
   "source": [
    "mean(new_data_mah$weight)"
   ]
  },
  {
   "cell_type": "code",
   "execution_count": null,
   "metadata": {},
   "outputs": [],
   "source": []
  }
 ],
 "metadata": {
  "kernelspec": {
   "display_name": "R",
   "language": "R",
   "name": "ir"
  },
  "language_info": {
   "codemirror_mode": "r",
   "file_extension": ".r",
   "mimetype": "text/x-r-source",
   "name": "R",
   "pygments_lexer": "r",
   "version": "3.6.1"
  }
 },
 "nbformat": 4,
 "nbformat_minor": 2
}
